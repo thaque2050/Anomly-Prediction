{
 "cells": [
  {
   "cell_type": "markdown",
   "metadata": {},
   "source": [
    "## Project: Anamoly Detection"
   ]
  },
  {
   "cell_type": "markdown",
   "metadata": {},
   "source": [
    "### Import Libraries"
   ]
  },
  {
   "cell_type": "code",
   "execution_count": 1,
   "metadata": {},
   "outputs": [
    {
     "name": "stderr",
     "output_type": "stream",
     "text": [
      "Using TensorFlow backend.\n"
     ]
    }
   ],
   "source": [
    "#Import libraries\n",
    "import cv2     # for capturing videos\n",
    "import matplotlib.pyplot as plt\n",
    "%matplotlib inline\n",
    "import pandas as pd\n",
    "import numpy as np\n",
    "import os\n",
    "import glob\n",
    "import zipfile\n",
    "from keras.models import Sequential\n",
    "from keras.layers import Conv3D, MaxPooling3D, GlobalAveragePooling3D, Conv2D,MaxPooling2D, Dropout\n",
    "from keras.layers.core import Dense\n",
    "from keras.layers import LSTM\n",
    "from keras.callbacks import ModelCheckpoint\n",
    "from keras.utils import to_categorical\n",
    "from keras.layers import Flatten, TimeDistributed,InputLayer, Reshape\n",
    "from keras.applications.vgg16 import VGG16\n",
    "from keras.applications.vgg16 import preprocess_input\n",
    "from keras.engine.input_layer import Input\n",
    "import matplotlib.image as mpimg\n",
    "import io\n",
    "import zipfile"
   ]
  },
  {
   "cell_type": "markdown",
   "metadata": {},
   "source": [
    "### Export Zip Files"
   ]
  },
  {
   "cell_type": "code",
   "execution_count": 5,
   "metadata": {},
   "outputs": [],
   "source": [
    "zipfile.ZipFile('A.zip').extractall()"
   ]
  },
  {
   "cell_type": "code",
   "execution_count": 6,
   "metadata": {},
   "outputs": [],
   "source": [
    "zipfile.ZipFile('B-F.zip').extractall()"
   ]
  },
  {
   "cell_type": "code",
   "execution_count": 7,
   "metadata": {},
   "outputs": [],
   "source": [
    "zipfile.ZipFile('N-1-154.zip').extractall()"
   ]
  },
  {
   "cell_type": "code",
   "execution_count": 8,
   "metadata": {},
   "outputs": [],
   "source": [
    "zipfile.ZipFile('N-1-337.zip').extractall()"
   ]
  },
  {
   "cell_type": "code",
   "execution_count": 9,
   "metadata": {},
   "outputs": [],
   "source": [
    "zipfile.ZipFile('N-1-558.zip').extractall()"
   ]
  },
  {
   "cell_type": "code",
   "execution_count": 10,
   "metadata": {},
   "outputs": [],
   "source": [
    "#zipfile.ZipFile('N-1-906.zip').extractall()"
   ]
  },
  {
   "cell_type": "code",
   "execution_count": 11,
   "metadata": {},
   "outputs": [],
   "source": [
    "#zipfile.ZipFile('N-1-922.zip').extractall()"
   ]
  },
  {
   "cell_type": "code",
   "execution_count": 12,
   "metadata": {},
   "outputs": [],
   "source": [
    "#zipfile.ZipFile('Robbery.zip').extractall()"
   ]
  },
  {
   "cell_type": "code",
   "execution_count": 13,
   "metadata": {},
   "outputs": [],
   "source": [
    "#zipfile.ZipFile('S-V.zip').extractall()"
   ]
  },
  {
   "cell_type": "markdown",
   "metadata": {},
   "source": [
    "### Convert videos to numpy array"
   ]
  },
  {
   "cell_type": "code",
   "execution_count": 2,
   "metadata": {
    "scrolled": true
   },
   "outputs": [],
   "source": [
    "#Store all files in a directory as list\n",
    "L=glob.glob(\"*.mp4\")"
   ]
  },
  {
   "cell_type": "code",
   "execution_count": 3,
   "metadata": {},
   "outputs": [],
   "source": [
    "M=[]\n",
    "for i in range(0,len(L)):\n",
    "    if 'Normal' in L[i]:\n",
    "        M.append(0)\n",
    "    else:\n",
    "        M.append(1)"
   ]
  },
  {
   "cell_type": "code",
   "execution_count": 4,
   "metadata": {},
   "outputs": [
    {
     "data": {
      "text/plain": [
       "(array([0, 1]), array([232, 144]))"
      ]
     },
     "execution_count": 4,
     "metadata": {},
     "output_type": "execute_result"
    }
   ],
   "source": [
    "np.unique(M,return_counts=True)"
   ]
  },
  {
   "cell_type": "code",
   "execution_count": 5,
   "metadata": {},
   "outputs": [],
   "source": [
    "#Convert videos to numpy arrays: dimension: number of videos, number of frames per video, height of a frame, width of a frame\n",
    "training_data_X=[]\n",
    "length=[]\n",
    "\n",
    "for i in range(0,len(L)):\n",
    "    cap = cv2.VideoCapture(L[i])\n",
    "    #print(L[i])\n",
    "    frameCount = int(cap.get(cv2.CAP_PROP_FRAME_COUNT))\n",
    "    #print(frameCount)\n",
    "    cap.release()\n",
    "    length.append(frameCount)\n",
    "\n",
    "#max_frame=max(length)\n",
    "max_frame=300\n",
    "\n",
    "for i in range(0,len(L)):\n",
    "    cap = cv2.VideoCapture(L[i])\n",
    "    frameCount = int(cap.get(cv2.CAP_PROP_FRAME_COUNT))\n",
    "    frameWidth = int(cap.get(cv2.CAP_PROP_FRAME_WIDTH))\n",
    "    frameHeight = int(cap.get(cv2.CAP_PROP_FRAME_HEIGHT))\n",
    "    #print(frameCount)\n",
    "    \n",
    "    if frameCount<max_frame:\n",
    "        buf = np.empty((frameCount, frameHeight, frameWidth, 3), np.dtype('uint8'))\n",
    "        #print(frameCount)\n",
    "    \n",
    "        fc = 0\n",
    "        ret = True\n",
    "    \n",
    "        while (fc < frameCount  and ret):\n",
    "            ret, buf[fc] = cap.read()\n",
    "            fc += 1\n",
    "        cap.release()\n",
    "    \n",
    "    else:\n",
    "        buf = np.empty((max_frame, frameHeight, frameWidth, 3), np.dtype('uint8'))\n",
    "        #print(frameCount)\n",
    "    \n",
    "        fc = 0\n",
    "        ret = True\n",
    "    \n",
    "        for i in range(int(frameCount/2-max_frame/2),(int(frameCount/2-max_frame/2)+max_frame)):\n",
    "            while (fc < max_frame  and ret):\n",
    "                cap.set(1, i)\n",
    "                ret, buf[fc] = cap.read()\n",
    "                #plt.imshow(buf[fc])\n",
    "                fc += 1\n",
    "        cap.release()\n",
    "    \n",
    "    if frameCount<max_frame:\n",
    "        gray = [np.zeros((frameHeight,frameWidth))]*frameCount\n",
    "        for i in range(0,frameCount):\n",
    "            gray[i]=cv2.cvtColor(buf[i],cv2.COLOR_RGB2GRAY)\n",
    "        gray=np.asarray(gray)\n",
    "    \n",
    "    else:\n",
    "        gray = [np.zeros((frameHeight,frameWidth))]*max_frame\n",
    "        for i in range(0,max_frame):\n",
    "            gray[i]=cv2.cvtColor(buf[i],cv2.COLOR_RGB2GRAY)\n",
    "        gray=np.asarray(gray)\n",
    "    \n",
    "    width=128\n",
    "    height=128\n",
    "    \n",
    "    if frameCount<max_frame:\n",
    "        re_size=[np.zeros((height,width))]*frameCount\n",
    "        for i in range(0,frameCount):\n",
    "            re_size[i]=cv2.resize(gray[i],(height, width))\n",
    "        re_size=np.asarray(re_size)\n",
    "    \n",
    "    else:\n",
    "        re_size=[np.zeros((height,width))]*max_frame\n",
    "        for i in range(0,max_frame):\n",
    "            re_size[i]=cv2.resize(gray[i],(height, width))\n",
    "        re_size=np.asarray(re_size)\n",
    "    \n",
    "    if frameCount<max_frame:\n",
    "        normal_size=[np.zeros((height,width))]*frameCount\n",
    "        for i in range(0,frameCount):\n",
    "            normal_size[i]=cv2.normalize(re_size[i],None,0,255,cv2.NORM_MINMAX)\n",
    "        normal_size=np.asarray(normal_size)\n",
    "        #print(normal_size.shape)\n",
    "    \n",
    "    else:\n",
    "        normal_size=[np.zeros((height,width))]*max_frame\n",
    "        for i in range(0,max_frame):\n",
    "            normal_size[i]=cv2.normalize(re_size[i],None,0,255,cv2.NORM_MINMAX)\n",
    "        normal_size=np.asarray(normal_size)\n",
    "        #print(normal_size.shape)\n",
    "    \n",
    "    #Stacking empty arrays with the existing array so that number of frames per video is same    \n",
    "    #print(max_frame)\n",
    "    if frameCount<max_frame:\n",
    "        empty_array=[np.zeros((height,width))]*(max_frame-frameCount)\n",
    "        empty_array=np.asarray(empty_array)\n",
    "        padded_normal=np.vstack((normal_size,empty_array))\n",
    "    \n",
    "    else:\n",
    "        padded_normal=normal_size\n",
    "    \n",
    "    #print(padded_normal.shape)\n",
    "    training_data_X.append(padded_normal)\n",
    "training_data_X=np.asarray(training_data_X)"
   ]
  },
  {
   "cell_type": "code",
   "execution_count": 6,
   "metadata": {},
   "outputs": [
    {
     "data": {
      "text/plain": [
       "(376, 300, 128, 128)"
      ]
     },
     "execution_count": 6,
     "metadata": {},
     "output_type": "execute_result"
    }
   ],
   "source": [
    "training_data_X.shape"
   ]
  },
  {
   "cell_type": "code",
   "execution_count": 7,
   "metadata": {},
   "outputs": [],
   "source": [
    "#Reshape data, why is it required?\n",
    "training_data_X2=training_data_X.reshape(training_data_X.shape[0],\n",
    "                                         training_data_X.shape[1],\n",
    "                                         training_data_X.shape[2],\n",
    "                                         training_data_X.shape[3],1)"
   ]
  },
  {
   "cell_type": "code",
   "execution_count": 8,
   "metadata": {},
   "outputs": [
    {
     "data": {
      "text/plain": [
       "(376, 300, 128, 128, 1)"
      ]
     },
     "execution_count": 8,
     "metadata": {},
     "output_type": "execute_result"
    }
   ],
   "source": [
    "training_data_X2.shape"
   ]
  },
  {
   "cell_type": "markdown",
   "metadata": {},
   "source": [
    "### View numpy arrays"
   ]
  },
  {
   "cell_type": "code",
   "execution_count": 9,
   "metadata": {},
   "outputs": [
    {
     "data": {
      "image/png": "[encoded data removed]",
      "text/plain": [
       "<Figure size 576x576 with 4 Axes>"
      ]
     },
     "metadata": {},
     "output_type": "display_data"
    }
   ],
   "source": [
    "fig = plt.figure(figsize=(8,8))\n",
    "ax1 = fig.add_subplot(2,2,1)\n",
    "ax1.imshow(training_data_X2[0][2].reshape(128,128),cmap='gray')\n",
    "ax2 = fig.add_subplot(2,2,2)\n",
    "ax2.imshow(training_data_X2[11][129].reshape(128,128),cmap='gray')\n",
    "ax3 = fig.add_subplot(2,2,3)\n",
    "ax3.imshow(training_data_X2[8][140].reshape(128,128),cmap='gray')\n",
    "ax4 = fig.add_subplot(2,2,4)\n",
    "ax4.imshow(training_data_X2[9][25].reshape(128,128),cmap='gray')\n",
    "plt.show()"
   ]
  },
  {
   "cell_type": "markdown",
   "metadata": {},
   "source": [
    "### Training data preparation"
   ]
  },
  {
   "cell_type": "code",
   "execution_count": 10,
   "metadata": {},
   "outputs": [],
   "source": [
    "X_train=training_data_X2"
   ]
  },
  {
   "cell_type": "code",
   "execution_count": 11,
   "metadata": {},
   "outputs": [
    {
     "data": {
      "text/plain": [
       "(376, 300, 128, 128, 1)"
      ]
     },
     "execution_count": 11,
     "metadata": {},
     "output_type": "execute_result"
    }
   ],
   "source": [
    "X_train.shape"
   ]
  },
  {
   "cell_type": "code",
   "execution_count": 12,
   "metadata": {},
   "outputs": [],
   "source": [
    "y_train=np.array(M,dtype=np.int)"
   ]
  },
  {
   "cell_type": "code",
   "execution_count": 13,
   "metadata": {},
   "outputs": [
    {
     "data": {
      "text/plain": [
       "(376,)"
      ]
     },
     "execution_count": 13,
     "metadata": {},
     "output_type": "execute_result"
    }
   ],
   "source": [
    "y_train.shape"
   ]
  },
  {
   "cell_type": "markdown",
   "metadata": {},
   "source": [
    "### Model with Conv3D"
   ]
  },
  {
   "cell_type": "code",
   "execution_count": 14,
   "metadata": {},
   "outputs": [
    {
     "name": "stdout",
     "output_type": "stream",
     "text": [
      "WARNING:tensorflow:From /home/ubuntu/anaconda3/lib/python3.6/site-packages/tensorflow/python/framework/op_def_library.py:263: colocate_with (from tensorflow.python.framework.ops) is deprecated and will be removed in a future version.\n",
      "Instructions for updating:\n",
      "Colocations handled automatically by placer.\n",
      "WARNING:tensorflow:From /home/ubuntu/anaconda3/lib/python3.6/site-packages/keras/backend/tensorflow_backend.py:3445: calling dropout (from tensorflow.python.ops.nn_ops) with keep_prob is deprecated and will be removed in a future version.\n",
      "Instructions for updating:\n",
      "Please use `rate` instead of `keep_prob`. Rate should be set to `rate = 1 - keep_prob`.\n",
      "_________________________________________________________________\n",
      "Layer (type)                 Output Shape              Param #   \n",
      "=================================================================\n",
      "conv3d_1 (Conv3D)            (None, 298, 126, 126, 16) 448       \n",
      "_________________________________________________________________\n",
      "max_pooling3d_1 (MaxPooling3 (None, 298, 63, 63, 16)   0         \n",
      "_________________________________________________________________\n",
      "conv3d_2 (Conv3D)            (None, 296, 61, 61, 32)   13856     \n",
      "_________________________________________________________________\n",
      "max_pooling3d_2 (MaxPooling3 (None, 296, 30, 30, 32)   0         \n",
      "_________________________________________________________________\n",
      "flatten_1 (Flatten)          (None, 8524800)           0         \n",
      "_________________________________________________________________\n",
      "dense_1 (Dense)              (None, 128)               1091174528\n",
      "_________________________________________________________________\n",
      "dropout_1 (Dropout)          (None, 128)               0         \n",
      "_________________________________________________________________\n",
      "dense_2 (Dense)              (None, 1)                 129       \n",
      "=================================================================\n",
      "Total params: 1,091,188,961\n",
      "Trainable params: 1,091,188,961\n",
      "Non-trainable params: 0\n",
      "_________________________________________________________________\n"
     ]
    }
   ],
   "source": [
    "model = Sequential()\n",
    "\n",
    "model.add(Conv3D(16, (3,3,3), activation='relu', input_shape=(X_train.shape[1], X_train.shape[2], X_train.shape[3], X_train.shape[4])))\n",
    "model.add(MaxPooling3D(pool_size=(1, 2, 2), strides=(1, 2, 2)))\n",
    "model.add(Conv3D(32, (3,3,3), activation='relu'))\n",
    "model.add(MaxPooling3D(pool_size=(1, 2, 2), strides=(1, 2, 2)))\n",
    "model.add(Flatten())\n",
    "model.add(Dense(128))\n",
    "model.add(Dropout(0.5))\n",
    "model.add(Dense(1,activation='sigmoid'))\n",
    "model.summary()"
   ]
  },
  {
   "cell_type": "markdown",
   "metadata": {},
   "source": [
    "### Train Models"
   ]
  },
  {
   "cell_type": "code",
   "execution_count": 16,
   "metadata": {},
   "outputs": [],
   "source": [
    "# Compiling the model\n",
    "model.compile(loss='binary_crossentropy', optimizer='adam', metrics=['acc'])\n",
    "\n",
    "# Saving the model that performed the best on the validation set\n",
    "checkpoint = ModelCheckpoint(filepath='best_model_weight.hdf5', save_best_only=True, verbose=1)"
   ]
  },
  {
   "cell_type": "code",
   "execution_count": 17,
   "metadata": {},
   "outputs": [
    {
     "name": "stdout",
     "output_type": "stream",
     "text": [
      "WARNING:tensorflow:From /home/ubuntu/anaconda3/lib/python3.6/site-packages/tensorflow/python/ops/math_ops.py:3066: to_int32 (from tensorflow.python.ops.math_ops) is deprecated and will be removed in a future version.\n",
      "Instructions for updating:\n",
      "Use tf.cast instead.\n",
      "Train on 263 samples, validate on 113 samples\n",
      "Epoch 1/10\n",
      "263/263 [==============================] - 4269s 16s/step - loss: 5.8201 - acc: 0.6388 - val_loss: 7.4172 - val_acc: 0.5398\n",
      "\n",
      "Epoch 00001: val_loss improved from inf to 7.41718, saving model to best_model_weight.hdf5\n",
      "Epoch 2/10\n",
      "263/263 [==============================] - 4244s 16s/step - loss: 5.6383 - acc: 0.6502 - val_loss: 7.4172 - val_acc: 0.5398\n",
      "\n",
      "Epoch 00002: val_loss did not improve from 7.41718\n",
      "Epoch 3/10\n",
      "263/263 [==============================] - 4244s 16s/step - loss: 5.6383 - acc: 0.6502 - val_loss: 7.4172 - val_acc: 0.5398\n",
      "\n",
      "Epoch 00003: val_loss did not improve from 7.41718\n",
      "Epoch 4/10\n",
      "263/263 [==============================] - 4244s 16s/step - loss: 5.6383 - acc: 0.6502 - val_loss: 7.4172 - val_acc: 0.5398\n",
      "\n",
      "Epoch 00004: val_loss did not improve from 7.41718\n",
      "Epoch 5/10\n",
      "263/263 [==============================] - 4160s 16s/step - loss: 5.6383 - acc: 0.6502 - val_loss: 7.4172 - val_acc: 0.5398\n",
      "\n",
      "Epoch 00005: val_loss did not improve from 7.41718\n",
      "Epoch 6/10\n",
      "263/263 [==============================] - 4210s 16s/step - loss: 5.6383 - acc: 0.6502 - val_loss: 7.4172 - val_acc: 0.5398\n",
      "\n",
      "Epoch 00006: val_loss did not improve from 7.41718\n",
      "Epoch 7/10\n",
      "263/263 [==============================] - 4245s 16s/step - loss: 5.6383 - acc: 0.6502 - val_loss: 7.4172 - val_acc: 0.5398\n",
      "\n",
      "Epoch 00007: val_loss did not improve from 7.41718\n",
      "Epoch 8/10\n",
      "263/263 [==============================] - 4243s 16s/step - loss: 5.6383 - acc: 0.6502 - val_loss: 7.4172 - val_acc: 0.5398\n",
      "\n",
      "Epoch 00008: val_loss did not improve from 7.41718\n",
      "Epoch 9/10\n",
      "263/263 [==============================] - 4248s 16s/step - loss: 5.6383 - acc: 0.6502 - val_loss: 7.4172 - val_acc: 0.5398\n",
      "\n",
      "Epoch 00009: val_loss did not improve from 7.41718\n",
      "Epoch 10/10\n",
      "263/263 [==============================] - 4246s 16s/step - loss: 5.6383 - acc: 0.6502 - val_loss: 7.4172 - val_acc: 0.5398\n",
      "\n",
      "Epoch 00010: val_loss did not improve from 7.41718\n"
     ]
    },
    {
     "data": {
      "text/plain": [
       "<keras.callbacks.History at 0x7efd82225160>"
      ]
     },
     "execution_count": 17,
     "metadata": {},
     "output_type": "execute_result"
    }
   ],
   "source": [
    "# Training the model for 40 epochs\n",
    "model.fit(X_train, y_train, batch_size=4,epochs=10,validation_split=0.3, verbose=1, callbacks=[checkpoint])"
   ]
  },
  {
   "cell_type": "code",
   "execution_count": null,
   "metadata": {},
   "outputs": [],
   "source": [
    "model.save('3D_model.h5')"
   ]
  },
  {
   "cell_type": "code",
   "execution_count": null,
   "metadata": {},
   "outputs": [],
   "source": []
  }
 ],
 "metadata": {
  "kernelspec": {
   "display_name": "Python 3",
   "language": "python",
   "name": "python3"
  },
  "language_info": {
   "codemirror_mode": {
    "name": "ipython",
    "version": 3
   },
   "file_extension": ".py",
   "mimetype": "text/x-python",
   "name": "python",
   "nbconvert_exporter": "python",
   "pygments_lexer": "ipython3",
   "version": "3.6.5"
  }
 },
 "nbformat": 4,
 "nbformat_minor": 2
}
